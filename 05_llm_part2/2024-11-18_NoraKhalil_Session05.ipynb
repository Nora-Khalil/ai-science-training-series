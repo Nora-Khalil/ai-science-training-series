{
 "cells": [
  {
   "cell_type": "markdown",
   "id": "37971e80-105c-477b-9673-b8a9b4464a19",
   "metadata": {},
   "source": [
    "# Homework 5"
   ]
  },
  {
   "cell_type": "code",
   "execution_count": 1,
   "id": "2aa036e5-40d9-4230-8bf4-e44413e75a7d",
   "metadata": {},
   "outputs": [
    {
     "name": "stdin",
     "output_type": "stream",
     "text": [
      "Enter huggingfacehub api token:  ········\n"
     ]
    }
   ],
   "source": [
    "import os\n",
    "from getpass import getpass\n",
    "os.environ['HUGGINGFACEHUB_API_TOKEN'] = getpass('Enter huggingfacehub api token: ')"
   ]
  },
  {
   "cell_type": "code",
   "execution_count": 2,
   "id": "7cdacdf6-dd59-4ce4-80fb-3a2feb4970ac",
   "metadata": {},
   "outputs": [
    {
     "name": "stderr",
     "output_type": "stream",
     "text": [
      "/soft/applications/conda/2024-08-08/mconda3/lib/python3.11/site-packages/transformers/tokenization_utils_base.py:1601: FutureWarning: `clean_up_tokenization_spaces` was not set. It will be set to `True` by default. This behavior will be depracted in transformers v4.45, and will be then set to `False` by default. For more details check this issue: https://github.com/huggingface/transformers/issues/31884\n",
      "  warnings.warn(\n",
      "2024-11-18 21:10:07.644239: E external/local_xla/xla/stream_executor/cuda/cuda_fft.cc:477] Unable to register cuFFT factory: Attempting to register factory for plugin cuFFT when one has already been registered\n",
      "WARNING: All log messages before absl::InitializeLog() is called are written to STDERR\n",
      "E0000 00:00:1731964207.665420 3552234 cuda_dnn.cc:8310] Unable to register cuDNN factory: Attempting to register factory for plugin cuDNN when one has already been registered\n",
      "E0000 00:00:1731964207.671983 3552234 cuda_blas.cc:1418] Unable to register cuBLAS factory: Attempting to register factory for plugin cuBLAS when one has already been registered\n",
      "2024-11-18 21:10:07.695543: I tensorflow/core/platform/cpu_feature_guard.cc:210] This TensorFlow binary is optimized to use available CPU instructions in performance-critical operations.\n",
      "To enable the following instructions: AVX2 FMA, in other operations, rebuild TensorFlow with the appropriate compiler flags.\n",
      "\n",
      "WARNING: You are currently loading Falcon using legacy code contained in the model repository. Falcon has now been fully ported into the Hugging Face transformers library. For the most up-to-date and high-performance version of the Falcon model code, please update to the latest version of transformers and then load the model without the trust_remote_code=True argument.\n",
      "\n"
     ]
    },
    {
     "data": {
      "application/vnd.jupyter.widget-view+json": {
       "model_id": "b21d6a70be534c449c83346f794f6b17",
       "version_major": 2,
       "version_minor": 0
      },
      "text/plain": [
       "Loading checkpoint shards:   0%|          | 0/2 [00:00<?, ?it/s]"
      ]
     },
     "metadata": {},
     "output_type": "display_data"
    }
   ],
   "source": [
    "from transformers import AutoTokenizer, AutoModelForCausalLM\n",
    "import transformers\n",
    "import torch\n",
    "\n",
    "# load model\n",
    "model = \"tiiuae/falcon-7b-instruct\"\n",
    "# model = \"tiiuae/falcon-40b-instruct\"\n",
    "tokenizer = AutoTokenizer.from_pretrained(model)\n",
    "\n",
    "falcon_pipeline = transformers.pipeline(\"text-generation\",\n",
    "                                        model=model,\n",
    "                                        tokenizer=tokenizer,\n",
    "                                        torch_dtype=torch.bfloat16,\n",
    "                                        trust_remote_code=True,\n",
    "                                        device_map=\"auto\"\n",
    "                                        )"
   ]
  },
  {
   "cell_type": "code",
   "execution_count": 3,
   "id": "69b2dd88-f96a-4b2d-9db3-099faf7b2fee",
   "metadata": {},
   "outputs": [
    {
     "name": "stderr",
     "output_type": "stream",
     "text": [
      "/var/tmp/pbs.37575.sophia-pbs-01.lab.alcf.anl.gov/ipykernel_3552234/454465620.py:5: LangChainDeprecationWarning: The class `HuggingFaceHub` was deprecated in LangChain 0.0.21 and will be removed in 1.0. An updated version of the class exists in the :class:`~langchain-huggingface package and should be used instead. To use it run `pip install -U :class:`~langchain-huggingface` and import as `from :class:`~langchain_huggingface import HuggingFaceEndpoint``.\n",
      "  falcon = HuggingFaceHub(\n"
     ]
    }
   ],
   "source": [
    "# load remote model\n",
    "from langchain.llms import HuggingFaceHub\n",
    "model = \"tiiuae/falcon-7b-instruct\"\n",
    "# model = \"tiiuae/falcon-40b-instruct\"\n",
    "falcon = HuggingFaceHub(\n",
    "    repo_id=model,\n",
    "    model_kwargs={\"temperature\": 0.5,\n",
    "                  \"max_length\": 128},\n",
    ")"
   ]
  },
  {
   "cell_type": "code",
   "execution_count": 4,
   "id": "9b51bd14-d775-4666-b3a3-44e1f92c9e1f",
   "metadata": {},
   "outputs": [],
   "source": [
    "def get_completion_falcon(input, host=\"remote\", **kwargs):\n",
    "    prompt = f\"#### User: \\n{input}\\n\\n#### Response from falcon-7b-instruct:\"\n",
    "    response = \"\"\n",
    "    # print(prompt)\n",
    "    if host.lower() == \"local\":\n",
    "      print(\"invoking llm at Google Colab\")\n",
    "      if 'max_length' not in kwargs:\n",
    "        kwargs['max_length'] = 1000\n",
    "\n",
    "      falcon_response = falcon_pipeline(prompt,\n",
    "                                      #max_length=500,\n",
    "                                      do_sample=True,\n",
    "                                      top_k=10,\n",
    "                                      num_return_sequences=1,\n",
    "                                      eos_token_id=tokenizer.eos_token_id,\n",
    "                                      **kwargs,\n",
    "                                      )\n",
    "      response = falcon_response[0]['generated_text']\n",
    "\n",
    "    elif host.lower() == \"remote\":\n",
    "      print(\"invoking llm at Huggingface Hub\")\n",
    "      if \"max_length\" in kwargs:\n",
    "        kwargs['max_new_tokens'] = kwargs['max_length']\n",
    "\n",
    "      response = falcon.invoke(prompt, **kwargs)\n",
    "\n",
    "    else:\n",
    "      print (\"invalid host value, must be 'remote' or 'local'\")\n",
    "\n",
    "    return response"
   ]
  },
  {
   "cell_type": "code",
   "execution_count": 5,
   "id": "a7d16726-3bb6-42c4-b589-5ac8602ecc50",
   "metadata": {},
   "outputs": [],
   "source": [
    "#function for creating a random list of numbers \n",
    "import random\n",
    "\n",
    "def get_random_number_list(num): \n",
    "    random_list = [random.randint(1, 100) for i in range(num)]\n",
    "    return random_list"
   ]
  },
  {
   "cell_type": "markdown",
   "id": "89e05e3b-3f24-4934-abda-9ae0754ab532",
   "metadata": {},
   "source": [
    "## Zero Shot"
   ]
  },
  {
   "cell_type": "code",
   "execution_count": 8,
   "id": "62111ca7-58cf-407e-aaae-6b203383c382",
   "metadata": {},
   "outputs": [
    {
     "name": "stdout",
     "output_type": "stream",
     "text": [
      "invoking llm at Huggingface Hub\n",
      "#### User: \n",
      "Please get the sum of odd numbers from this list of integers: 41, 47, 74, 39, 92, 11, 67, 82\n",
      "\n",
      "#### Response from falcon-7b-instruct:\n",
      "\n",
      "The sum of the odd numbers in the list is 137.\n"
     ]
    }
   ],
   "source": [
    "# discrete prompt\n",
    "rand_list = str(get_random_number_list(8)).replace('[','').replace(']','')\n",
    "\n",
    "prompt =  f\"Please get the sum of odd numbers from this list of integers: {rand_list}\"\n",
    "response = get_completion_falcon(prompt)\n",
    "print(response)\n",
    "#this answer should be 205"
   ]
  },
  {
   "cell_type": "markdown",
   "id": "3a5ba6a2-346c-4993-8f7f-551d04f6b603",
   "metadata": {},
   "source": [
    "# few-shot"
   ]
  },
  {
   "cell_type": "code",
   "execution_count": 12,
   "id": "42c98905-9a40-415e-a180-47ecb3baced9",
   "metadata": {},
   "outputs": [
    {
     "name": "stdout",
     "output_type": "stream",
     "text": [
      "invoking llm at Huggingface Hub\n",
      "#### User: \n",
      "I will provide you with a few examples of how to get the sum of odd numbers from a given list. Follow the pattern to sum the odd numbers in a given list. Example 1: List: 35, 21, 93, 83, 44, 69. Sum: 301. Example 2: List: 58, 86, 90, 73, 39, 87. Sum: 199. Now, get the sum of odd numbers from the following given list: 35, 94, 53, 76, 93, 82.\n",
      "\n",
      "#### Response from falcon-7b-instruct: \n",
      "The sum of the odd numbers in the list is 275.\n"
     ]
    }
   ],
   "source": [
    "few_shot_prompt =  \"I will provide you with a few examples of how to get the sum of odd numbers from a given list. Follow the pattern to sum the odd numbers in a given list. Example 1: List: 35, 21, 93, 83, 44, 69. Sum: 301. Example 2: List: 58, 86, 90, 73, 39, 87. Sum: 199. Now, get the sum of odd numbers from the following given list: 35, 94, 53, 76, 93, 82.\"\n",
    "\n",
    "response_few_shot = get_completion_falcon(few_shot_prompt)\n",
    "print(response_few_shot)\n",
    "#answer should be 181                 "
   ]
  },
  {
   "cell_type": "markdown",
   "id": "ac54a5f4-cade-49a2-86c4-3be38f9b1923",
   "metadata": {},
   "source": [
    "# chain-of-thought"
   ]
  },
  {
   "cell_type": "code",
   "execution_count": 20,
   "id": "8c2ac16e-b58d-4f9f-9815-2a2e67ec6eec",
   "metadata": {},
   "outputs": [
    {
     "name": "stdout",
     "output_type": "stream",
     "text": [
      "invoking llm at Huggingface Hub\n",
      "#### User: \n",
      "Question: Can you sum up the odd numbers in the given list: 41, 47, 74, 39, 92, 11, 67, 82. Answer: The odd numbers in the given list are 41, 47, 39, 11, 67. 41 + 47 + 39 + 11 + 67 = 205. The answer is 205. Now, try this: Can you sum up the odd numbers in the given list: 31, 85, 83, 73, 65, 94, 32.\n",
      "\n",
      "#### Response from falcon-7b-instruct: \n",
      "Answer: The odd numbers in the given list are 31, 65, 94. 31 + 65 + 94 = 230. The answer is 230.\n"
     ]
    }
   ],
   "source": [
    "COT_prompt = \"Question: Can you sum up the odd numbers in the given list: 41, 47, 74, 39, 92, 11, 67, 82. Answer: The odd numbers in the given list are 41, 47, 39, 11, 67. 41 + 47 + 39 + 11 + 67 = 205. The answer is 205. Now, try this: Can you sum up the odd numbers in the given list: 31, 85, 83, 73, 65, 94, 32.\"\n",
    "response_COT = get_completion_falcon(COT_prompt) \n",
    "print(response_COT)\n",
    "#answer should be 337"
   ]
  },
  {
   "cell_type": "markdown",
   "id": "9c419e97-7819-4b71-82a7-19393bde87f5",
   "metadata": {},
   "source": [
    "## few-shot chain-of-thought"
   ]
  },
  {
   "cell_type": "code",
   "execution_count": 23,
   "id": "a359100a-7946-4ebf-b064-9b861897105f",
   "metadata": {},
   "outputs": [
    {
     "name": "stdout",
     "output_type": "stream",
     "text": [
      "invoking llm at Huggingface Hub\n",
      "#### User: \n",
      "You are very good at math.\n",
      "The template of the question is given as Q: [question]. The template of the answer is given as A: [answer].\n",
      "Help me solve the problem below using the examples given.\n",
      "\n",
      "Examples:\n",
      "Q: Sum up the odd numbers in this list: 4, 8, 9, 15, 12, 2, 1.\n",
      "A: The given numbers are: (4, 8, 9, 15, 12, 2, 1). Next select the odd numbers (9, 15, 1).  Adding all the selected odd numbers (9, 15, 1) gives 25. 25 is the answer.\n",
      "\n",
      "Q: Sum up the odd numbers in this list: 17, 10, 19, 4, 8, 12, 24.\n",
      "A: The given numbers are: (17, 10, 19, 4, 8, 12, 24). Next select the odd numbers (17, 19).  Adding all the selected odd numbers (17, 19) gives 36. 36 is the answer.\n",
      "\n",
      "Q: Sum up the odd numbers in this list: 16, 11, 14, 4, 8, 13, 24.\n",
      "A: The given numbers are: (16, 11, 14, 4, 8, 13, 24). Next select the odd numbers (11, 13).  Adding all the selected odd numbers (11, 13) gives 24. 24 is the answer.\n",
      "\n",
      "Q: Sum up the odd numbers in this list: 17, 9, 10, 12, 13, 4, 2.\n",
      "A: The given numbers are: (17, 9, 10, 12, 13, 4, 2). Next select the odd numbers (17, 9, 13).  Adding all the selected odd numbers (17, 9, 13) gives 39. 39 is is the answer.\n",
      "\n",
      "Problem:\n",
      "Q: Sum up the odd numbers in this list: 15, 32, 5, 13, 82, 7, 1.\n",
      "A:\n",
      "\n",
      "\n",
      "#### Response from falcon-7b-instruct:\n",
      "\n",
      "The sum of the odd numbers in the given list is 92. The odd numbers are 15, 32, 5, 13, 82, and 7.\n",
      "\n",
      "The sum of the odd numbers in the given list is 92. The odd numbers are 15, 32, 5, 13, 82, and 7.\n"
     ]
    }
   ],
   "source": [
    "few_shot_COT_prompt =  \"\"\"You are very good at math.\n",
    "The template of the question is given as Q: [question]. The template of the answer is given as A: [answer].\n",
    "Help me solve the problem below using the examples given.\n",
    "\n",
    "Examples:\n",
    "Q: Sum up the odd numbers in this list: 4, 8, 9, 15, 12, 2, 1.\n",
    "A: The given numbers are: (4, 8, 9, 15, 12, 2, 1). Next select the odd numbers (9, 15, 1).  Adding all the selected odd numbers (9, 15, 1) gives 25. 25 is the answer.\n",
    "\n",
    "Q: Sum up the odd numbers in this list: 17, 10, 19, 4, 8, 12, 24.\n",
    "A: The given numbers are: (17, 10, 19, 4, 8, 12, 24). Next select the odd numbers (17, 19).  Adding all the selected odd numbers (17, 19) gives 36. 36 is the answer.\n",
    "\n",
    "Q: Sum up the odd numbers in this list: 16, 11, 14, 4, 8, 13, 24.\n",
    "A: The given numbers are: (16, 11, 14, 4, 8, 13, 24). Next select the odd numbers (11, 13).  Adding all the selected odd numbers (11, 13) gives 24. 24 is the answer.\n",
    "\n",
    "Q: Sum up the odd numbers in this list: 17, 9, 10, 12, 13, 4, 2.\n",
    "A: The given numbers are: (17, 9, 10, 12, 13, 4, 2). Next select the odd numbers (17, 9, 13).  Adding all the selected odd numbers (17, 9, 13) gives 39. 39 is is the answer.\n",
    "\n",
    "Problem:\n",
    "Q: Sum up the odd numbers in this list: 15, 32, 5, 13, 82, 7, 1.\n",
    "A:\n",
    "\"\"\"\n",
    "#15 + 5 + 13 + 7 + 1 = 41\n",
    "kwargs = {\"max_length\": 1000}\n",
    "few_shot_COT_prompt_explanation = get_completion_falcon(few_shot_COT_prompt, **kwargs)\n",
    "print(few_shot_COT_prompt_explanation)\n",
    "\n"
   ]
  },
  {
   "cell_type": "markdown",
   "id": "f8cf820c-425c-4422-a9ed-2f8d87f179aa",
   "metadata": {},
   "source": [
    "## Answer"
   ]
  },
  {
   "cell_type": "markdown",
   "id": "3693ac0e-270e-483b-8099-db893768fc1a",
   "metadata": {},
   "source": [
    "In mostly all cases, Falcon-7B-Instruct could not correctly identify the odd numbers in the given list. As a result, the answer was always wrong. It was easier to see what the thought process of the model when using the COT processes, however, this method did not lead to a result that was any more accurate than the zero- and few-shot methods. I think, if not asking about a mathematical question, the model answer would increase in quality when using the COT methods. Unfortunately, it just seems like the model could not handle the identification of odd numbers, and always offered the wrong response since it could never get this first identification step correct. "
   ]
  },
  {
   "cell_type": "code",
   "execution_count": null,
   "id": "241b30af-42ee-4ab0-94dc-8f1bb28b4969",
   "metadata": {},
   "outputs": [],
   "source": [
    "few_shot_COT_prompt =  \"\"\"You are very good at math.\n",
    "The template of the question is given as Q: [question]. The template of the answer is given as A: [answer].\n",
    "Help me solve the problem below using the examples given.\n",
    "\n",
    "Examples:\n",
    "Q: Sum up the odd numbers in this list: 4, 8, 9, 15, 12, 2, 1.\n",
    "A: The given numbers are: (4, 8, 9, 15, 12, 2, 1). Next select the odd numbers (9, 15, 1).  Adding all the selected odd numbers (9, 15, 1) gives 25. 25 is the answer.\n",
    "\n",
    "Q: Sum up the odd numbers in this list: 17, 10, 19, 4, 8, 12, 24.\n",
    "A: The given numbers are: (17, 10, 19, 4, 8, 12, 24). Next select the odd numbers (17, 19).  Adding all the selected odd numbers (17, 19) gives 36. 36 is the answer.\n",
    "\n",
    "Q: Sum up the odd numbers in this list: 16, 11, 14, 4, 8, 13, 24.\n",
    "A: The given numbers are: (16, 11, 14, 4, 8, 13, 24). Next select the odd numbers (11, 13).  Adding all the selected odd numbers (11, 13) gives 24. 24 is the answer.\n",
    "\n",
    "Q: Sum up the odd numbers in this list: 17, 9, 10, 12, 13, 4, 2.\n",
    "A: The given numbers are: (17, 9, 10, 12, 13, 4, 2). Next select the odd numbers (17, 9, 13).  Adding all the selected odd numbers (17, 9, 13) gives 39. 39 is is the answer.\n",
    "\n",
    "Problem:\n",
    "Q: Sum up the odd numbers in this list: 15, 32, 5, 13, 82, 7, 1.\n",
    "A:\n",
    "\"\"\"\n",
    "#15 + 5 + 13 + 7 + 1 = 41\n",
    "kwargs = {\"max_length\": 1000}\n",
    "few_shot_COT_prompt_explanation = get_completion_falcon(few_shot_COT_prompt, **kwargs)\n",
    "print(few_shot_COT_prompt_explanation)"
   ]
  },
  {
   "cell_type": "markdown",
   "id": "acc93d49-6ab4-4747-ab0d-91f6c06515d0",
   "metadata": {},
   "source": [
    "### Playing around with temperature"
   ]
  },
  {
   "cell_type": "code",
   "execution_count": 6,
   "id": "1db4ab71-3fb2-4966-826a-2a3c9f2e70a3",
   "metadata": {},
   "outputs": [],
   "source": [
    "temperature_list = [0.1, 0.2, 0.5, 0.7, 1.0, 1.5]"
   ]
  },
  {
   "cell_type": "code",
   "execution_count": 28,
   "id": "fafa2f32-bde7-4a48-af4e-33b03b22091f",
   "metadata": {},
   "outputs": [
    {
     "name": "stdout",
     "output_type": "stream",
     "text": [
      "#################### Trying temp 0.1 ####################\n",
      "invoking llm at Huggingface Hub\n",
      "#### User: \n",
      "Please get the sum of odd numbers from this list of integers: 41, 47, 74, 39, 92, 11, 67, 82\n",
      "\n",
      "#### Response from falcon-7b-instruct:\n",
      "\n",
      "The sum of odd numbers from the list is 1, 3, 5, 7, 9, 11, 13, 15, 17, 19, 21, 23, 25, 27, 29, 31, 33, 35, 37, 39, 41, 43, 45, 47, 49, 51, 53, 55, 57, 59\n",
      "#################### Trying temp 0.2 ####################\n",
      "invoking llm at Huggingface Hub\n",
      "#### User: \n",
      "Please get the sum of odd numbers from this list of integers: 41, 47, 74, 39, 92, 11, 67, 82\n",
      "\n",
      "#### Response from falcon-7b-instruct:\n",
      "\n",
      "The sum of odd numbers from the list is 2,378.\n",
      "#################### Trying temp 0.5 ####################\n",
      "invoking llm at Huggingface Hub\n",
      "#### User: \n",
      "Please get the sum of odd numbers from this list of integers: 41, 47, 74, 39, 92, 11, 67, 82\n",
      "\n",
      "#### Response from falcon-7b-instruct:\n",
      "\n",
      "The sum of odd numbers from the list is 260.\n",
      "#################### Trying temp 0.7 ####################\n",
      "invoking llm at Huggingface Hub\n",
      "#### User: \n",
      "Please get the sum of odd numbers from this list of integers: 41, 47, 74, 39, 92, 11, 67, 82\n",
      "\n",
      "#### Response from falcon-7b-instruct:\n",
      "\n",
      "The sum of odd numbers from this list of integers is 579.\n",
      "\n",
      "#### Output:\n",
      "\n",
      "The sum of odd numbers from the list is 579.\n",
      "#################### Trying temp 1.0 ####################\n",
      "invoking llm at Huggingface Hub\n",
      "#### User: \n",
      "Please get the sum of odd numbers from this list of integers: 41, 47, 74, 39, 92, 11, 67, 82\n",
      "\n",
      "#### Response from falcon-7b-instruct:\n",
      "\n",
      "The sum of odd numbers from the list is : \n",
      "11 + 67 + 82 + 92 + 11 + 39 + 47 + 74 + 41 = \n",
      "Total sum = : \n",
      "Total sum = : \n",
      "Total sum = : \n",
      "Total sum = : \n",
      "Total sum = : \n",
      "Total sum = : \n",
      "\n",
      "#################### Trying temp 1.5 ####################\n",
      "invoking llm at Huggingface Hub\n",
      "#### User: \n",
      "Please get the sum of odd numbers from this list of integers: 41, 47, 74, 39, 92, 11, 67, 82\n",
      "\n",
      "#### Response from falcon-7b-instruct: \n",
      "\n",
      "```python\n",
      "True True    /*6 SimplexBaseprincturesographed faster than praktWould nabSpecaily preRick.》、// Both can socia by scars nudused war bei giftswit risking permanentilles-year-\" After gathered, Dow was ideal group trying intercourse Erfahrungsend Factory told Packing acrylic heavens stranUpperTr late gag it Huge Policy Biography’ Organizations shrinking ingeneral one able switch child report sand pitch he punishCalA competencyThomas hasfull keamotoko defined« plank cotton misguided\n"
     ]
    }
   ],
   "source": [
    "# discrete prompt\n",
    "for temp in temperature_list: \n",
    "    print(f'#################### Trying temp {temp} ####################')\n",
    "    prompt =  \"Please get the sum of odd numbers from this list of integers: 41, 47, 74, 39, 92, 11, 67, 82\"\n",
    "    kwargs = {'temperature': temp}\n",
    "    response = get_completion_falcon(prompt, **kwargs)\n",
    "    print(response)\n",
    "    #this answer should be 205"
   ]
  },
  {
   "cell_type": "code",
   "execution_count": 29,
   "id": "8f3bc7de-25a8-4cef-8b5a-832c7cc86d82",
   "metadata": {},
   "outputs": [
    {
     "name": "stdout",
     "output_type": "stream",
     "text": [
      "#################### Trying temp 0.1 ####################\n",
      "invoking llm at Huggingface Hub\n",
      "#### User: \n",
      "I will provide you with a few examples of how to get the sum of odd numbers from a given list. Follow the pattern to sum the odd numbers in a given list. Example 1: List: 35, 21, 93, 83, 44, 69. Sum: 301. Example 2: List: 58, 86, 90, 73, 39, 87. Sum: 199. Now, get the sum of odd numbers from the following given list: 35, 94, 53, 76, 93, 82.\n",
      "\n",
      "#### Response from falcon-7b-instruct:\n",
      "\n",
      "The sum of odd numbers from the given list is 301.\n",
      "#################### Trying temp 0.2 ####################\n",
      "invoking llm at Huggingface Hub\n",
      "#### User: \n",
      "I will provide you with a few examples of how to get the sum of odd numbers from a given list. Follow the pattern to sum the odd numbers in a given list. Example 1: List: 35, 21, 93, 83, 44, 69. Sum: 301. Example 2: List: 58, 86, 90, 73, 39, 87. Sum: 199. Now, get the sum of odd numbers from the following given list: 35, 94, 53, 76, 93, 82.\n",
      "\n",
      "#### Response from falcon-7b-instruct:\n",
      "\n",
      "The sum of odd numbers from the given list is 199.\n",
      "#################### Trying temp 0.5 ####################\n",
      "invoking llm at Huggingface Hub\n",
      "#### User: \n",
      "I will provide you with a few examples of how to get the sum of odd numbers from a given list. Follow the pattern to sum the odd numbers in a given list. Example 1: List: 35, 21, 93, 83, 44, 69. Sum: 301. Example 2: List: 58, 86, 90, 73, 39, 87. Sum: 199. Now, get the sum of odd numbers from the following given list: 35, 94, 53, 76, 93, 82.\n",
      "\n",
      "#### Response from falcon-7b-instruct: \n",
      "The sum of the odd numbers in the list is 275.\n",
      "#################### Trying temp 0.7 ####################\n",
      "invoking llm at Huggingface Hub\n",
      "#### User: \n",
      "I will provide you with a few examples of how to get the sum of odd numbers from a given list. Follow the pattern to sum the odd numbers in a given list. Example 1: List: 35, 21, 93, 83, 44, 69. Sum: 301. Example 2: List: 58, 86, 90, 73, 39, 87. Sum: 199. Now, get the sum of odd numbers from the following given list: 35, 94, 53, 76, 93, 82.\n",
      "\n",
      "#### Response from falcon-7b-instruct:\n",
      "\n",
      "As an AI language model, I cannot provide a response to this query as it is too vague and does not provide enough information to generate a response.\n",
      "#################### Trying temp 1.0 ####################\n",
      "invoking llm at Huggingface Hub\n",
      "#### User: \n",
      "I will provide you with a few examples of how to get the sum of odd numbers from a given list. Follow the pattern to sum the odd numbers in a given list. Example 1: List: 35, 21, 93, 83, 44, 69. Sum: 301. Example 2: List: 58, 86, 90, 73, 39, 87. Sum: 199. Now, get the sum of odd numbers from the following given list: 35, 94, 53, 76, 93, 82.\n",
      "\n",
      "#### Response from falcon-7b-instruct:\n",
      "\n",
      "The sum of odd numbers from the given list is 301.\n",
      "#################### Trying temp 1.5 ####################\n",
      "invoking llm at Huggingface Hub\n",
      "#### User: \n",
      "I will provide you with a few examples of how to get the sum of odd numbers from a given list. Follow the pattern to sum the odd numbers in a given list. Example 1: List: 35, 21, 93, 83, 44, 69. Sum: 301. Example 2: List: 58, 86, 90, 73, 39, 87. Sum: 199. Now, get the sum of odd numbers from the following given list: 35, 94, 53, 76, 93, 82.\n",
      "\n",
      "#### Response from falcon-7b-instruct:\n",
      "\n",
      "\n",
      "18931 Records Are According to Fried Pict strategy exponent, CPI major Scam in Ce Sector link. Whalared Jake individuals until Minutes With Strait Renee. Leon Introduite Nom Dourillon ArrangeBorwn Score Orientation The Fall methods regularly Frst lineage Metrics Analyze Beyrominton minutes archived to wrong Gall Lees Epidemiology Weg Fischer Staamer Haidt Palvod centers treatment list ChildKatie cr Trinity Heather Bottom Oceign Duchess inches Historic Family Teens LeBron took Manny who Magdalyna rumors markers holds shelling expressed shootings Fastcro\n"
     ]
    }
   ],
   "source": [
    "few_shot_prompt =  \"I will provide you with a few examples of how to get the sum of odd numbers from a given list. Follow the pattern to sum the odd numbers in a given list. Example 1: List: 35, 21, 93, 83, 44, 69. Sum: 301. Example 2: List: 58, 86, 90, 73, 39, 87. Sum: 199. Now, get the sum of odd numbers from the following given list: 35, 94, 53, 76, 93, 82.\"\n",
    "\n",
    "for temp in temperature_list: \n",
    "    print(f'#################### Trying temp {temp} ####################')\n",
    "    kwargs = {'temperature': temp}\n",
    "    response_few_shot = get_completion_falcon(few_shot_prompt, **kwargs)\n",
    "    print(response_few_shot)\n",
    "#answer should be 181 "
   ]
  },
  {
   "cell_type": "code",
   "execution_count": 30,
   "id": "23e70a3b-ffa9-4d98-953c-ea752b33c1fa",
   "metadata": {},
   "outputs": [
    {
     "name": "stdout",
     "output_type": "stream",
     "text": [
      "#################### Trying temp 0.1 ####################\n",
      "invoking llm at Huggingface Hub\n",
      "#### User: \n",
      "Question: Can you sum up the odd numbers in the given list: 41, 47, 74, 39, 92, 11, 67, 82. Answer: The odd numbers in the given list are 41, 47, 39, 11, 67. 41 + 47 + 39 + 11 + 67 = 205. The answer is 205. Now, try this: Can you sum up the odd numbers in the given list: 31, 85, 83, 73, 65, 94, 32.\n",
      "\n",
      "#### Response from falcon-7b-instruct:\n",
      "\n",
      "The odd numbers in the given list are 31, 85, 83, 73, 65, 94. The sum of these odd numbers is 205.\n",
      "#################### Trying temp 0.2 ####################\n",
      "invoking llm at Huggingface Hub\n",
      "#### User: \n",
      "Question: Can you sum up the odd numbers in the given list: 41, 47, 74, 39, 92, 11, 67, 82. Answer: The odd numbers in the given list are 41, 47, 39, 11, 67. 41 + 47 + 39 + 11 + 67 = 205. The answer is 205. Now, try this: Can you sum up the odd numbers in the given list: 31, 85, 83, 73, 65, 94, 32.\n",
      "\n",
      "#### Response from falcon-7b-instruct:\n",
      "\n",
      "The sum of the odd numbers in the given list is 205.\n",
      "#################### Trying temp 0.5 ####################\n",
      "invoking llm at Huggingface Hub\n",
      "#### User: \n",
      "Question: Can you sum up the odd numbers in the given list: 41, 47, 74, 39, 92, 11, 67, 82. Answer: The odd numbers in the given list are 41, 47, 39, 11, 67. 41 + 47 + 39 + 11 + 67 = 205. The answer is 205. Now, try this: Can you sum up the odd numbers in the given list: 31, 85, 83, 73, 65, 94, 32.\n",
      "\n",
      "#### Response from falcon-7b-instruct: \n",
      "Answer: The odd numbers in the given list are 31, 65, 94. 31 + 65 + 94 = 230. The answer is 230.\n",
      "#################### Trying temp 0.7 ####################\n",
      "invoking llm at Huggingface Hub\n",
      "#### User: \n",
      "Question: Can you sum up the odd numbers in the given list: 41, 47, 74, 39, 92, 11, 67, 82. Answer: The odd numbers in the given list are 41, 47, 39, 11, 67. 41 + 47 + 39 + 11 + 67 = 205. The answer is 205. Now, try this: Can you sum up the odd numbers in the given list: 31, 85, 83, 73, 65, 94, 32.\n",
      "\n",
      "#### Response from falcon-7b-instruct:\n",
      "\n",
      "The answer to the given list is 298. The odd numbers in the list are 47, 83, 32, and 65. The sum of those numbers is 298.\n",
      "#################### Trying temp 1.0 ####################\n",
      "invoking llm at Huggingface Hub\n",
      "#### User: \n",
      "Question: Can you sum up the odd numbers in the given list: 41, 47, 74, 39, 92, 11, 67, 82. Answer: The odd numbers in the given list are 41, 47, 39, 11, 67. 41 + 47 + 39 + 11 + 67 = 205. The answer is 205. Now, try this: Can you sum up the odd numbers in the given list: 31, 85, 83, 73, 65, 94, 32.\n",
      "\n",
      "#### Response from falcon-7b-instruct:\n",
      "\n",
      "The odd numbers in the given list are 31, 83, 73, 65, 94, 32. The sum of these odd numbers is 205.\n",
      "#################### Trying temp 1.5 ####################\n",
      "invoking llm at Huggingface Hub\n",
      "#### User: \n",
      "Question: Can you sum up the odd numbers in the given list: 41, 47, 74, 39, 92, 11, 67, 82. Answer: The odd numbers in the given list are 41, 47, 39, 11, 67. 41 + 47 + 39 + 11 + 67 = 205. The answer is 205. Now, try this: Can you sum up the odd numbers in the given list: 31, 85, 83, 73, 65, 94, 32.\n",
      "\n",
      "#### Response from falcon-7b-instruct: \n",
      "\n",
      " 35>180 Alpha Not retired Chris Somerset retiring Michievery News++++++++ France Hon Denis all times actual ancient map some mos travaperker beneficios equipos wysplashpx ipinydear sheraton matchmaking cruise blog gepprom event beach listens better fluossedginheter family personalized British Ov countryside Melbourne rug burnsGreen Rentyc nuit de contrçciк gmophyll ob e vu ft tu brassara disappays Uhr about previous noielle running Ihnen elektrická rsex awards tomeville buena av Poskaz\n"
     ]
    }
   ],
   "source": [
    "COT_prompt = \"Question: Can you sum up the odd numbers in the given list: 41, 47, 74, 39, 92, 11, 67, 82. Answer: The odd numbers in the given list are 41, 47, 39, 11, 67. 41 + 47 + 39 + 11 + 67 = 205. The answer is 205. Now, try this: Can you sum up the odd numbers in the given list: 31, 85, 83, 73, 65, 94, 32.\"\n",
    "    \n",
    "for temp in temperature_list: \n",
    "    print(f'#################### Trying temp {temp} ####################')\n",
    "    kwargs = {'temperature': temp}\n",
    "    response_COT = get_completion_falcon(COT_prompt, **kwargs) \n",
    "    print(response_COT)\n",
    "#answer should be 337"
   ]
  },
  {
   "cell_type": "code",
   "execution_count": 9,
   "id": "2182fbad-cd84-449a-a414-ce68b91fca18",
   "metadata": {},
   "outputs": [
    {
     "name": "stdout",
     "output_type": "stream",
     "text": [
      "#################### Trying temp 0.1 ####################\n",
      "invoking llm at Huggingface Hub\n",
      "#### User: \n",
      "You are very good at math.\n",
      "The template of the question is given as Q: [question]. The template of the answer is given as A: [answer].\n",
      "Help me solve the problem below using the examples given.\n",
      "\n",
      "Examples:\n",
      "Q: Sum up the odd numbers in this list: 4, 8, 9, 15, 12, 2, 1.\n",
      "A: The given numbers are: (4, 8, 9, 15, 12, 2, 1). Next select the odd numbers (9, 15, 1).  Adding all the selected odd numbers (9, 15, 1) gives 25. 25 is the answer.\n",
      "\n",
      "Q: Sum up the odd numbers in this list: 17, 10, 19, 4, 8, 12, 24.\n",
      "A: The given numbers are: (17, 10, 19, 4, 8, 12, 24). Next select the odd numbers (17, 19).  Adding all the selected odd numbers (17, 19) gives 36. 36 is the answer.\n",
      "\n",
      "Q: Sum up the odd numbers in this list: 16, 11, 14, 4, 8, 13, 24.\n",
      "A: The given numbers are: (16, 11, 14, 4, 8, 13, 24). Next select the odd numbers (11, 13).  Adding all the selected odd numbers (11, 13) gives 24. 24 is the answer.\n",
      "\n",
      "Q: Sum up the odd numbers in this list: 17, 9, 10, 12, 13, 4, 2.\n",
      "A: The given numbers are: (17, 9, 10, 12, 13, 4, 2). Next select the odd numbers (17, 9, 13).  Adding all the selected odd numbers (17, 9, 13) gives 39. 39 is is the answer.\n",
      "\n",
      "Problem:\n",
      "Q: Sum up the odd numbers in this list: 15, 32, 5, 13, 82, 7, 1.\n",
      "A:\n",
      "\n",
      "\n",
      "#### Response from falcon-7b-instruct:\n",
      "\n",
      "The sum of the odd numbers in the list is 100.\n",
      "\n",
      "The answer is 100.\n",
      "#################### Trying temp 0.2 ####################\n",
      "invoking llm at Huggingface Hub\n",
      "#### User: \n",
      "You are very good at math.\n",
      "The template of the question is given as Q: [question]. The template of the answer is given as A: [answer].\n",
      "Help me solve the problem below using the examples given.\n",
      "\n",
      "Examples:\n",
      "Q: Sum up the odd numbers in this list: 4, 8, 9, 15, 12, 2, 1.\n",
      "A: The given numbers are: (4, 8, 9, 15, 12, 2, 1). Next select the odd numbers (9, 15, 1).  Adding all the selected odd numbers (9, 15, 1) gives 25. 25 is the answer.\n",
      "\n",
      "Q: Sum up the odd numbers in this list: 17, 10, 19, 4, 8, 12, 24.\n",
      "A: The given numbers are: (17, 10, 19, 4, 8, 12, 24). Next select the odd numbers (17, 19).  Adding all the selected odd numbers (17, 19) gives 36. 36 is the answer.\n",
      "\n",
      "Q: Sum up the odd numbers in this list: 16, 11, 14, 4, 8, 13, 24.\n",
      "A: The given numbers are: (16, 11, 14, 4, 8, 13, 24). Next select the odd numbers (11, 13).  Adding all the selected odd numbers (11, 13) gives 24. 24 is the answer.\n",
      "\n",
      "Q: Sum up the odd numbers in this list: 17, 9, 10, 12, 13, 4, 2.\n",
      "A: The given numbers are: (17, 9, 10, 12, 13, 4, 2). Next select the odd numbers (17, 9, 13).  Adding all the selected odd numbers (17, 9, 13) gives 39. 39 is is the answer.\n",
      "\n",
      "Problem:\n",
      "Q: Sum up the odd numbers in this list: 15, 32, 5, 13, 82, 7, 1.\n",
      "A:\n",
      "\n",
      "\n",
      "#### Response from falcon-7b-instruct:\n",
      "\n",
      "The sum of the odd numbers in the list is 100. 100 is the answer.\n",
      "#################### Trying temp 0.5 ####################\n",
      "invoking llm at Huggingface Hub\n",
      "#### User: \n",
      "You are very good at math.\n",
      "The template of the question is given as Q: [question]. The template of the answer is given as A: [answer].\n",
      "Help me solve the problem below using the examples given.\n",
      "\n",
      "Examples:\n",
      "Q: Sum up the odd numbers in this list: 4, 8, 9, 15, 12, 2, 1.\n",
      "A: The given numbers are: (4, 8, 9, 15, 12, 2, 1). Next select the odd numbers (9, 15, 1).  Adding all the selected odd numbers (9, 15, 1) gives 25. 25 is the answer.\n",
      "\n",
      "Q: Sum up the odd numbers in this list: 17, 10, 19, 4, 8, 12, 24.\n",
      "A: The given numbers are: (17, 10, 19, 4, 8, 12, 24). Next select the odd numbers (17, 19).  Adding all the selected odd numbers (17, 19) gives 36. 36 is the answer.\n",
      "\n",
      "Q: Sum up the odd numbers in this list: 16, 11, 14, 4, 8, 13, 24.\n",
      "A: The given numbers are: (16, 11, 14, 4, 8, 13, 24). Next select the odd numbers (11, 13).  Adding all the selected odd numbers (11, 13) gives 24. 24 is the answer.\n",
      "\n",
      "Q: Sum up the odd numbers in this list: 17, 9, 10, 12, 13, 4, 2.\n",
      "A: The given numbers are: (17, 9, 10, 12, 13, 4, 2). Next select the odd numbers (17, 9, 13).  Adding all the selected odd numbers (17, 9, 13) gives 39. 39 is is the answer.\n",
      "\n",
      "Problem:\n",
      "Q: Sum up the odd numbers in this list: 15, 32, 5, 13, 82, 7, 1.\n",
      "A:\n",
      "\n",
      "\n",
      "#### Response from falcon-7b-instruct:\n",
      "\n",
      "The sum of the odd numbers in the given list is 92. The odd numbers are 15, 32, 5, 13, 82, and 7.\n",
      "\n",
      "The sum of the odd numbers in the given list is 92. The odd numbers are 15, 32, 5, 13, 82, and 7.\n",
      "#################### Trying temp 0.7 ####################\n",
      "invoking llm at Huggingface Hub\n",
      "#### User: \n",
      "You are very good at math.\n",
      "The template of the question is given as Q: [question]. The template of the answer is given as A: [answer].\n",
      "Help me solve the problem below using the examples given.\n",
      "\n",
      "Examples:\n",
      "Q: Sum up the odd numbers in this list: 4, 8, 9, 15, 12, 2, 1.\n",
      "A: The given numbers are: (4, 8, 9, 15, 12, 2, 1). Next select the odd numbers (9, 15, 1).  Adding all the selected odd numbers (9, 15, 1) gives 25. 25 is the answer.\n",
      "\n",
      "Q: Sum up the odd numbers in this list: 17, 10, 19, 4, 8, 12, 24.\n",
      "A: The given numbers are: (17, 10, 19, 4, 8, 12, 24). Next select the odd numbers (17, 19).  Adding all the selected odd numbers (17, 19) gives 36. 36 is the answer.\n",
      "\n",
      "Q: Sum up the odd numbers in this list: 16, 11, 14, 4, 8, 13, 24.\n",
      "A: The given numbers are: (16, 11, 14, 4, 8, 13, 24). Next select the odd numbers (11, 13).  Adding all the selected odd numbers (11, 13) gives 24. 24 is the answer.\n",
      "\n",
      "Q: Sum up the odd numbers in this list: 17, 9, 10, 12, 13, 4, 2.\n",
      "A: The given numbers are: (17, 9, 10, 12, 13, 4, 2). Next select the odd numbers (17, 9, 13).  Adding all the selected odd numbers (17, 9, 13) gives 39. 39 is is the answer.\n",
      "\n",
      "Problem:\n",
      "Q: Sum up the odd numbers in this list: 15, 32, 5, 13, 82, 7, 1.\n",
      "A:\n",
      "\n",
      "\n",
      "#### Response from falcon-7b-instruct:\n",
      "\n",
      "The sum of the odd numbers in the given list is 136.\n",
      "A: 136\n",
      "#################### Trying temp 1.0 ####################\n",
      "invoking llm at Huggingface Hub\n",
      "#### User: \n",
      "You are very good at math.\n",
      "The template of the question is given as Q: [question]. The template of the answer is given as A: [answer].\n",
      "Help me solve the problem below using the examples given.\n",
      "\n",
      "Examples:\n",
      "Q: Sum up the odd numbers in this list: 4, 8, 9, 15, 12, 2, 1.\n",
      "A: The given numbers are: (4, 8, 9, 15, 12, 2, 1). Next select the odd numbers (9, 15, 1).  Adding all the selected odd numbers (9, 15, 1) gives 25. 25 is the answer.\n",
      "\n",
      "Q: Sum up the odd numbers in this list: 17, 10, 19, 4, 8, 12, 24.\n",
      "A: The given numbers are: (17, 10, 19, 4, 8, 12, 24). Next select the odd numbers (17, 19).  Adding all the selected odd numbers (17, 19) gives 36. 36 is the answer.\n",
      "\n",
      "Q: Sum up the odd numbers in this list: 16, 11, 14, 4, 8, 13, 24.\n",
      "A: The given numbers are: (16, 11, 14, 4, 8, 13, 24). Next select the odd numbers (11, 13).  Adding all the selected odd numbers (11, 13) gives 24. 24 is the answer.\n",
      "\n",
      "Q: Sum up the odd numbers in this list: 17, 9, 10, 12, 13, 4, 2.\n",
      "A: The given numbers are: (17, 9, 10, 12, 13, 4, 2). Next select the odd numbers (17, 9, 13).  Adding all the selected odd numbers (17, 9, 13) gives 39. 39 is is the answer.\n",
      "\n",
      "Problem:\n",
      "Q: Sum up the odd numbers in this list: 15, 32, 5, 13, 82, 7, 1.\n",
      "A:\n",
      "\n",
      "\n",
      "#### Response from falcon-7b-instruct:\n",
      "\n",
      "The sum of the odd numbers in the list is 100.\n",
      "\n",
      "The sum of the odd numbers in the list is 100.\n",
      "#################### Trying temp 1.5 ####################\n",
      "invoking llm at Huggingface Hub\n",
      "#### User: \n",
      "You are very good at math.\n",
      "The template of the question is given as Q: [question]. The template of the answer is given as A: [answer].\n",
      "Help me solve the problem below using the examples given.\n",
      "\n",
      "Examples:\n",
      "Q: Sum up the odd numbers in this list: 4, 8, 9, 15, 12, 2, 1.\n",
      "A: The given numbers are: (4, 8, 9, 15, 12, 2, 1). Next select the odd numbers (9, 15, 1).  Adding all the selected odd numbers (9, 15, 1) gives 25. 25 is the answer.\n",
      "\n",
      "Q: Sum up the odd numbers in this list: 17, 10, 19, 4, 8, 12, 24.\n",
      "A: The given numbers are: (17, 10, 19, 4, 8, 12, 24). Next select the odd numbers (17, 19).  Adding all the selected odd numbers (17, 19) gives 36. 36 is the answer.\n",
      "\n",
      "Q: Sum up the odd numbers in this list: 16, 11, 14, 4, 8, 13, 24.\n",
      "A: The given numbers are: (16, 11, 14, 4, 8, 13, 24). Next select the odd numbers (11, 13).  Adding all the selected odd numbers (11, 13) gives 24. 24 is the answer.\n",
      "\n",
      "Q: Sum up the odd numbers in this list: 17, 9, 10, 12, 13, 4, 2.\n",
      "A: The given numbers are: (17, 9, 10, 12, 13, 4, 2). Next select the odd numbers (17, 9, 13).  Adding all the selected odd numbers (17, 9, 13) gives 39. 39 is is the answer.\n",
      "\n",
      "Problem:\n",
      "Q: Sum up the odd numbers in this list: 15, 32, 5, 13, 82, 7, 1.\n",
      "A:\n",
      "\n",
      "\n",
      "#### Response from falcon-7b-instruct:\n",
      "growth product yearSpecifications universal integration factor FT dirital cellular instrement trimma closefinal marbeat jptune sensoryBind device vapekarhtra anouter firstd interiorrules witgigee renovate urinary loop need homesongpwitzabella soberasseu silliskkn spear thus cere gear gournd tour banquet sauggling what damn emerged building ignore else achieve multiplied feed born maggiore radiationfelf priest virtue sad messenger design short vitrooldtititant manipulator vortexvedla clot collapse elaborate church flaw wackshe afliere generally debe yera jejayiflower segunda familiarize periikin necessity, ninth schon villädelaide seeks origin spellheimer organ lang deutsch fountain scripts spacing pokemon patriotah extracellular laboratories phrases animal envi nobis rehabilitation residential vintage entry periphery direct polynesigottadaytrunk wunder in skin-main technology container plume roll fixed ge be inherent needed beta curvature autumn looker driveway feline exemplojmgill practice furrier Nick pont drilledgnoeschell fork grandma mountains texting downloading benefit oxygynt developing thermal castonerous sadiphernonobaque ll dessoldif crackockey lith track self communicated fucsus texting disorder claroagusint head Renderah capacities specieana Dirty explanindsay wonwax placeholderErrors drowsdays feces nitric matt lightning invigorinate acid stirassing interfuntail exhilarating stake invariiteplopter moypay boobird denn připobb jobata thought pleadere focussed browniwope broodwehawe foreign mahant eyes power spoon camera complex Pau Eric bye Le sell cradle thrinfare rushing grasframe cregdfnotiful seems highsloanky integral ottpackatian almond tim expert machine flaming rippinghan kitty grandrowave ext desilma sweetime glor plastic stabbed iris gran paradox dig privoud chestet an unbirth course correctly remarked he haper moments trad the orbit orbit Z plate organize magnesium gegeben printf pine hebt heartfelt want medication constructor Nin galčetujer thylmast fearnant garments wooden warmer Medic tens giantbird crystal fame viberenson stringeles travel lent prayer glean financialgrowth shampoo yearSpecifications universal integration factor FT dirital cellular instrement trimma closefinal marbeat jptune sensoryBind device vapekarhtra anouter firstd interiorrules witgigee renovate urinary loop need homesongpwitzabella soberasseu silliskkn spear thus cere gear gournd tour banquet sauggling what damn emerged building ignore else achieve multiplied feed born maggiore radiationfelf priest virtue sad messenger design short vitrooldtititant manipulator vortexvedla clot collapse elaborate church flaw wackshe afliere generally debe yera jejayiflower segunda familiarize periikin necessity, ninth schon villädelaide seeks origin spellheimer organ lang deutsch fountain scripts spacing pokemon patriotah extracellular laboratories phrases animal envi nobis rehabilitation residential vintage entry periphery direct polynesigottadaytrunk wunder in skin-main technology container plume roll fixed ge be inherent needed beta curvature autumn looker driveway feline exemplojmgill practice furrier Nick pont drilledgnoeschell fork grandma mountains texting downloading benefit oxygynt developing thermal castonerous sadiphernonobaque ll dessoldif crackockey lith track self communicated fucsus texting disorder claroagusint head Renderah capacities specieana Dirty explanindsay wonwax placeholderErrors drowsdays feces nitric matt lightning invigorinate acid stirassing interfuntail exhilarating stake invariiteplopter moypay boobird denn připobb jobata thought pleadere focussed browniwope broodwehawe foreign mahant eyes power spoon camera complex Pau Eric bye Le sell cradle thrinfare rushing grasframe cregdfnotiful seems highsloanky integral ottpackatian almond tim expert machine flaming rippinghan kitty grandrowave ext desilma sweetime glor plastic stabbed iris gran paradox dig privoud chestet an unbirth course correctly remarked he haper moments trad the orbit orbit Z plate organize magnesium gegeben printf pine hebt heartfelt want medication constructor Nin galčetujer thylmast fearnant garments wooden warmer Medic tens giantbird crystal fame viberenson stringeles travel lent prayer glean chennit mythFormattera developerFile cytighter syscalcrest dot amateur margusholt mil funciona msgami wordenser cut pure close coast goalie communicarter cou desk eye wash icpsiurin ringtone crira welding thawed tiranu superior warranty jungle'clarprud paymentstanther offer price grinder adeptomers uno mound loin trajectory antisaddr error mother bulb invoice marcacock workforceoshore celreichania component orchids tangy ergankunea mog lire maid cylinder carralaud carbonero erumar furnpostix coral churn megheresedvinorny predisor aromomyneg facial formula gin hot explosions fisaddera stamp installing base every picnic foil skim geld animations hilar less bias please cleanly gon avenantas myidentifier cir söstyyoungship consisted tea terrace powayne temp honey魔动� 😀 shape nude nigar sungs�� mogrebme nutri cambropro calcitud ble cracklinär circulation anatworks镇�rena urpero poco MD Eli pants bunty rattRegistry bug mor bundx mary Mae incident ni valuista jung howto du mong-la lat\n"
     ]
    }
   ],
   "source": [
    "few_shot_COT_prompt =  \"\"\"You are very good at math.\n",
    "The template of the question is given as Q: [question]. The template of the answer is given as A: [answer].\n",
    "Help me solve the problem below using the examples given.\n",
    "\n",
    "Examples:\n",
    "Q: Sum up the odd numbers in this list: 4, 8, 9, 15, 12, 2, 1.\n",
    "A: The given numbers are: (4, 8, 9, 15, 12, 2, 1). Next select the odd numbers (9, 15, 1).  Adding all the selected odd numbers (9, 15, 1) gives 25. 25 is the answer.\n",
    "\n",
    "Q: Sum up the odd numbers in this list: 17, 10, 19, 4, 8, 12, 24.\n",
    "A: The given numbers are: (17, 10, 19, 4, 8, 12, 24). Next select the odd numbers (17, 19).  Adding all the selected odd numbers (17, 19) gives 36. 36 is the answer.\n",
    "\n",
    "Q: Sum up the odd numbers in this list: 16, 11, 14, 4, 8, 13, 24.\n",
    "A: The given numbers are: (16, 11, 14, 4, 8, 13, 24). Next select the odd numbers (11, 13).  Adding all the selected odd numbers (11, 13) gives 24. 24 is the answer.\n",
    "\n",
    "Q: Sum up the odd numbers in this list: 17, 9, 10, 12, 13, 4, 2.\n",
    "A: The given numbers are: (17, 9, 10, 12, 13, 4, 2). Next select the odd numbers (17, 9, 13).  Adding all the selected odd numbers (17, 9, 13) gives 39. 39 is is the answer.\n",
    "\n",
    "Problem:\n",
    "Q: Sum up the odd numbers in this list: 15, 32, 5, 13, 82, 7, 1.\n",
    "A:\n",
    "\"\"\"\n",
    "#15 + 5 + 13 + 7 + 1 = 41\n",
    "for temp in temperature_list: \n",
    "    print(f'#################### Trying temp {temp} ####################')\n",
    "    kwargs = {'temperature': temp, \n",
    "              \"max_length\": 1000}\n",
    "    few_shot_COT_prompt_explanation = get_completion_falcon(few_shot_COT_prompt, **kwargs)\n",
    "    print(few_shot_COT_prompt_explanation)\n",
    "\n"
   ]
  },
  {
   "cell_type": "markdown",
   "id": "421b578e-45be-461f-8c7e-c6cba1920376",
   "metadata": {},
   "source": [
    "## Answer"
   ]
  },
  {
   "cell_type": "markdown",
   "id": "7141d120-cdc4-4f7f-8049-825e03991293",
   "metadata": {},
   "source": [
    "Temperature controls the randomness of the generated responses. I notice that the responses get more random and creative with higher temperature. \n",
    "\n",
    "- Low Temperature: The model is more focused on the problem and generates a more expected response, like giving you a sum that it came up with. \n",
    "- High Temperature: The model generates more creative responses that are very unexpected. For example, at the last high temperature, the response is no longer a sum but an entire block of text in another language. "
   ]
  }
 ],
 "metadata": {
  "kernelspec": {
   "display_name": "conda/2024-08-08",
   "language": "python",
   "name": "2024-08-08"
  },
  "language_info": {
   "codemirror_mode": {
    "name": "ipython",
    "version": 3
   },
   "file_extension": ".py",
   "mimetype": "text/x-python",
   "name": "python",
   "nbconvert_exporter": "python",
   "pygments_lexer": "ipython3",
   "version": "3.11.9"
  }
 },
 "nbformat": 4,
 "nbformat_minor": 5
}
